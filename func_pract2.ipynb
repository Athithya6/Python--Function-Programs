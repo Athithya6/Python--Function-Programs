{
 "cells": [
  {
   "cell_type": "code",
   "execution_count": 7,
   "metadata": {},
   "outputs": [
    {
     "name": "stdout",
     "output_type": "stream",
     "text": [
      "18\n",
      "BUST\n",
      "19\n",
      "BUST\n",
      "BUST\n"
     ]
    }
   ],
   "source": [
    "def blackjack(p,q,r):\n",
    "    s=p+q+r\n",
    "    if(s<=21):\n",
    "        print(s)\n",
    "    elif ((p==11 or q==11 or r==11) and s<=31) :\n",
    "        print(s-10)\n",
    "    else:\n",
    "        print('BUST')\n",
    "    \n",
    "blackjack(5,6,7)\n",
    "blackjack(9,9,9)\n",
    "blackjack(9,9,11)\n",
    "blackjack(11,11,11)\n",
    "blackjack(10,11,11)"
   ]
  },
  {
   "cell_type": "code",
   "execution_count": 1,
   "metadata": {},
   "outputs": [
    {
     "name": "stdout",
     "output_type": "stream",
     "text": [
      "Prime numbers:\n",
      "[2, 3, 5, 7, 11, 13, 17, 19, 23, 29, 31, 37, 41, 43, 47, 53, 59, 61, 67, 71, 73, 79, 83, 89, 97]\n",
      "No.of prime numbers=  25\n"
     ]
    }
   ],
   "source": [
    "l=[]\n",
    "def prime(a):\n",
    "    flag=0\n",
    "    for i in range(2,a):\n",
    "        if(a%i==0):\n",
    "            flag=1\n",
    "    \n",
    "    if(flag==0):\n",
    "        l.append(a)\n",
    "        \n",
    "def count_primes(n):\n",
    "    count=0\n",
    "    for j in range(2,n):\n",
    "        prime(j)\n",
    "    print(\"Prime numbers:\")\n",
    "    print(l)\n",
    "    for i in l:\n",
    "        count=count+1\n",
    "    print(\"No.of prime numbers= \",count)\n",
    "\n",
    "count_primes(100)\n",
    "\n",
    "\n",
    "        \n"
   ]
  },
  {
   "cell_type": "code",
   "execution_count": null,
   "metadata": {},
   "outputs": [],
   "source": [
    "'''\n",
    "\n",
    "'''        "
   ]
  }
 ],
 "metadata": {
  "kernelspec": {
   "display_name": "Python 3",
   "language": "python",
   "name": "python3"
  },
  "language_info": {
   "codemirror_mode": {
    "name": "ipython",
    "version": 3
   },
   "file_extension": ".py",
   "mimetype": "text/x-python",
   "name": "python",
   "nbconvert_exporter": "python",
   "pygments_lexer": "ipython3",
   "version": "3.7.4"
  }
 },
 "nbformat": 4,
 "nbformat_minor": 2
}
