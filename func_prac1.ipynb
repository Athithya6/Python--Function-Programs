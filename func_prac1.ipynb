{
 "cells": [
  {
   "cell_type": "code",
   "execution_count": 7,
   "metadata": {},
   "outputs": [
    {
     "data": {
      "text/plain": [
       "44"
      ]
     },
     "execution_count": 7,
     "metadata": {},
     "output_type": "execute_result"
    }
   ],
   "source": [
    "def lesser_of_two_evens(a,b):\n",
    "    if(a>b):\n",
    "        greater=a\n",
    "        lesser=b\n",
    "    else:\n",
    "        greater=b\n",
    "        lesser=a\n",
    "    if(a%2==0 and b%2==0):\n",
    "        return lesser\n",
    "    else:\n",
    "        return greater\n",
    "#lesser_of_two_evens(2,4)\n",
    "#lesser_of_two_evens(2,5)\n",
    "#lesser_of_two_evens(5,3)\n",
    "#lesser_of_two_evens(11,6)\n",
    "#lesser_of_two_evens(46,44)\n"
   ]
  },
  {
   "cell_type": "code",
   "execution_count": 11,
   "metadata": {},
   "outputs": [
    {
     "data": {
      "text/plain": [
       "False"
      ]
     },
     "execution_count": 11,
     "metadata": {},
     "output_type": "execute_result"
    }
   ],
   "source": [
    "def make_twenty(m,n):\n",
    "    if(m+n==20 or m==20 or n==20):\n",
    "        return True\n",
    "    else:\n",
    "        return False\n",
    "    \n",
    "#make_twenty(19,1)\n",
    "#make_twenty(0,20)\n",
    "#make_twenty(16,3)"
   ]
  },
  {
   "cell_type": "code",
   "execution_count": 17,
   "metadata": {},
   "outputs": [
    {
     "data": {
      "text/plain": [
       "True"
      ]
     },
     "execution_count": 17,
     "metadata": {},
     "output_type": "execute_result"
    }
   ],
   "source": [
    "def animal_crackers(text):\n",
    "    l=[]\n",
    "    l=text.split()\n",
    "    if (l[0][0]==l[1][0]):\n",
    "        return True\n",
    "    else:\n",
    "        return False\n",
    "#animal_crackers(\"Levelheaded Llama\")\n",
    "#animal_crackers(\"Crazy Kangaroo\")\n",
    "    \n",
    "    \n"
   ]
  },
  {
   "cell_type": "code",
   "execution_count": 32,
   "metadata": {},
   "outputs": [
    {
     "data": {
      "text/plain": [
       "'AthIthya'"
      ]
     },
     "execution_count": 32,
     "metadata": {},
     "output_type": "execute_result"
    }
   ],
   "source": [
    "def old_macdonald(name):\n",
    "    \n",
    "    name1=\"\"\n",
    "    for i in range(len(name)):\n",
    "        if(i==0 or i==3):\n",
    "            name1=name1+name[i].capitalize()\n",
    "        else:\n",
    "            name1=name1+name[i]\n",
    "    return name1\n",
    "    \n",
    "    '''\n",
    "    first_letter=name[0]\n",
    "    beg=name[1:3]\n",
    "    fourth_letter=name[3]\n",
    "    rem=name[4:]\n",
    "    return first_letter.capitalize()+beg+fourth_letter.capitalize()+rem\n",
    "    '''\n",
    "    \n",
    "    '''\n",
    "    first_half=name[0:3]\n",
    "    second_half=name[3:]\n",
    "    return first_half.capitalize()+second_half.capitalize() \n",
    "    '''\n",
    "     \n",
    "    \n",
    "#old_macdonald(\"Athithya\")\n",
    "    \n",
    "#old_macdonald(\"macdonald\")\n",
    "#old_macdonald(\"adityavarma\")"
   ]
  },
  {
   "cell_type": "code",
   "execution_count": 35,
   "metadata": {},
   "outputs": [
    {
     "data": {
      "text/plain": [
       "True"
      ]
     },
     "execution_count": 35,
     "metadata": {},
     "output_type": "execute_result"
    }
   ],
   "source": [
    "def almost_there(n):\n",
    "    \n",
    "    if ((n in range(90,111)) or (n in range(190,211))):\n",
    "        return True\n",
    "    else:\n",
    "        return False\n",
    "    \n",
    "    #return (abs(100-n)<=10) or (abs(200-n)<=10)\n",
    "almost_there(90)"
   ]
  },
  {
   "cell_type": "code",
   "execution_count": 27,
   "metadata": {},
   "outputs": [
    {
     "data": {
      "text/plain": [
       "True"
      ]
     },
     "execution_count": 27,
     "metadata": {},
     "output_type": "execute_result"
    }
   ],
   "source": [
    "almost_there(104)"
   ]
  },
  {
   "cell_type": "code",
   "execution_count": 38,
   "metadata": {},
   "outputs": [
    {
     "data": {
      "text/plain": [
       "False"
      ]
     },
     "execution_count": 38,
     "metadata": {},
     "output_type": "execute_result"
    }
   ],
   "source": [
    "almost_there(150)"
   ]
  },
  {
   "cell_type": "code",
   "execution_count": 40,
   "metadata": {},
   "outputs": [
    {
     "data": {
      "text/plain": [
       "True"
      ]
     },
     "execution_count": 40,
     "metadata": {},
     "output_type": "execute_result"
    }
   ],
   "source": [
    "almost_there(209)"
   ]
  },
  {
   "cell_type": "code",
   "execution_count": 59,
   "metadata": {},
   "outputs": [
    {
     "data": {
      "text/plain": [
       "'ready are We'"
      ]
     },
     "execution_count": 59,
     "metadata": {},
     "output_type": "execute_result"
    }
   ],
   "source": [
    "def master_yoda(text):\n",
    "    \n",
    "    l=[]\n",
    "    l=text.split()\n",
    "    m=l[::-1]\n",
    "    return \" \".join(m)\n",
    "    \n",
    "            \n",
    "#master_yoda(\"I am home\")\n",
    "#master_yoda(\"We are ready\")\n",
    "#master_yoda(\"Athithya Narayan\")\n",
    "    "
   ]
  },
  {
   "cell_type": "code",
   "execution_count": 70,
   "metadata": {},
   "outputs": [
    {
     "data": {
      "text/plain": [
       "'MMMiiissssssiiissssssiiippppppiii'"
      ]
     },
     "execution_count": 70,
     "metadata": {},
     "output_type": "execute_result"
    }
   ],
   "source": [
    "def paper_doll(text):\n",
    "    text1=\"\"\n",
    "    for i in text:\n",
    "        text1=text1+i*3\n",
    "    return text1\n",
    "\n",
    "#paper_doll('Hello')\n",
    "#paper_doll(\"Mississippi\")"
   ]
  },
  {
   "cell_type": "code",
   "execution_count": null,
   "metadata": {},
   "outputs": [],
   "source": [
    "def has_33(nums):\n",
    "    for i in range(0,len(nums)-1):\n",
    "        if (nums[i]==3 and nums[i+1]==3):\n",
    "            return True\n",
    "    return False\n",
    "#has_33([3,1,3])\n",
    "#has_33([1,3,3])\n",
    "#has_33([1,3,1,3])\n"
   ]
  },
  {
   "cell_type": "code",
   "execution_count": null,
   "metadata": {},
   "outputs": [],
   "source": [
    "def repeat_char(string)\n",
    "    string1=\"\"\n",
    "    l=[5,8,4,6,9,3,1,7,2]\n",
    "    j=0\n",
    "    for i in string:\n",
    "        string1=string1+i*l[j]\n",
    "        j=j+1\n",
    "    return string1\n",
    "\n",
    "#repeat_char(\"Spielberg\")"
   ]
  },
  {
   "cell_type": "code",
   "execution_count": null,
   "metadata": {},
   "outputs": [],
   "source": []
  },
  {
   "cell_type": "code",
   "execution_count": null,
   "metadata": {},
   "outputs": [],
   "source": []
  },
  {
   "cell_type": "code",
   "execution_count": null,
   "metadata": {},
   "outputs": [],
   "source": []
  },
  {
   "cell_type": "code",
   "execution_count": null,
   "metadata": {},
   "outputs": [],
   "source": []
  },
  {
   "cell_type": "code",
   "execution_count": null,
   "metadata": {},
   "outputs": [],
   "source": []
  }
 ],
 "metadata": {
  "kernelspec": {
   "display_name": "Python 3",
   "language": "python",
   "name": "python3"
  },
  "language_info": {
   "codemirror_mode": {
    "name": "ipython",
    "version": 3
   },
   "file_extension": ".py",
   "mimetype": "text/x-python",
   "name": "python",
   "nbconvert_exporter": "python",
   "pygments_lexer": "ipython3",
   "version": "3.7.4"
  }
 },
 "nbformat": 4,
 "nbformat_minor": 2
}
